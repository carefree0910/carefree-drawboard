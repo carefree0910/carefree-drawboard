{
  "cells": [
    {
      "attachments": {},
      "cell_type": "markdown",
      "metadata": {
        "colab_type": "text",
        "id": "view-in-github"
      },
      "source": [
        "<a href=\"https://colab.research.google.com/github/carefree0910/carefree-drawboard/blob/dev/examples/server.ipynb\" target=\"_parent\"><img src=\"https://colab.research.google.com/assets/colab-badge.svg\" alt=\"Open In Colab\"/></a>"
      ]
    },
    {
      "attachments": {},
      "cell_type": "markdown",
      "metadata": {
        "id": "MtLkX4umm5L8"
      },
      "source": [
        "# Welcome to `carefree-drawboard` 🎨!\n",
        "\n",
        "1. Get a free `ngrok` authtoken, fill it down below.\n",
        "  - You can visit [here](https://dashboard.ngrok.com/get-started/your-authtoken) to get a free `ngrok` authtoken.\n",
        "  - If you haven't registered yet, follow the register steps and then visit the above link.\n",
        "\n",
        "2. `Runtime` -> `Run All`, scroll to the end, follow the only instruction printed out at the last cell, and you are all set!"
      ]
    },
    {
      "cell_type": "code",
      "execution_count": null,
      "metadata": {
        "id": "L7Luc2_Edxyh"
      },
      "outputs": [],
      "source": [
        "%env AUTHTOKEN="
      ]
    },
    {
      "attachments": {},
      "cell_type": "markdown",
      "metadata": {
        "id": "-jwOeZafnFQR"
      },
      "source": [
        "# Setup"
      ]
    },
    {
      "cell_type": "code",
      "execution_count": null,
      "metadata": {
        "id": "WIzCoP18nHTo"
      },
      "outputs": [],
      "source": [
        "from IPython.utils import capture\n",
        "from IPython.display import clear_output\n",
        "\n",
        "# Uncomment these lines if you want to mount your Google Drive\n",
        "# from google.colab import drive\n",
        "# drive.mount('/content/gdrive')"
      ]
    },
    {
      "attachments": {},
      "cell_type": "markdown",
      "metadata": {
        "id": "JwtpeyvMnN9X"
      },
      "source": [
        "## Install `ngrok`"
      ]
    },
    {
      "cell_type": "code",
      "execution_count": null,
      "metadata": {
        "id": "WYLDlqa9jwBV"
      },
      "outputs": [],
      "source": [
        "with capture.capture_output():\n",
        "  !curl -s https://ngrok-agent.s3.amazonaws.com/ngrok.asc | sudo tee /etc/apt/trusted.gpg.d/ngrok.asc >/dev/null && echo \"deb https://ngrok-agent.s3.amazonaws.com buster main\" | sudo tee /etc/apt/sources.list.d/ngrok.list && sudo apt update && sudo apt install ngrok\n",
        "  clear_output()"
      ]
    },
    {
      "attachments": {},
      "cell_type": "markdown",
      "metadata": {
        "id": "hikDvG0jnQY4"
      },
      "source": [
        "## Install `carefree-drawboard` 🎨"
      ]
    },
    {
      "cell_type": "code",
      "execution_count": null,
      "metadata": {
        "id": "3Ow0RGwqi_yI"
      },
      "outputs": [],
      "source": [
        "with capture.capture_output():\n",
        "  !git clone https://github.com/carefree0910/carefree-drawboard.git && cd carefree-drawboard && pip install . && cd .. && rm -rf carefree-drawboard\n",
        "  !npm install --global yarn\n",
        "  clear_output()"
      ]
    },
    {
      "attachments": {},
      "cell_type": "markdown",
      "metadata": {
        "id": "VV2Em5Rxnefu"
      },
      "source": [
        "## Install `pyngrok`"
      ]
    },
    {
      "cell_type": "code",
      "execution_count": null,
      "metadata": {
        "id": "9Gcp4hKOnqYu"
      },
      "outputs": [],
      "source": [
        "with capture.capture_output():\n",
        "  !python3 -m pip install pyngrok\n",
        "  clear_output()"
      ]
    },
    {
      "cell_type": "code",
      "execution_count": null,
      "metadata": {
        "id": "hTrXjsydXSTL"
      },
      "outputs": [],
      "source": [
        "!ngrok authtoken $AUTHTOKEN"
      ]
    },
    {
      "attachments": {},
      "cell_type": "markdown",
      "metadata": {
        "id": "lw7PB978iNzh"
      },
      "source": [
        "## Upgrade `node`"
      ]
    },
    {
      "cell_type": "code",
      "execution_count": null,
      "metadata": {
        "id": "cAG7GcuniRh8"
      },
      "outputs": [],
      "source": [
        "with capture.capture_output():\n",
        "  !npm install -g n && n stable\n",
        "  clear_output()"
      ]
    },
    {
      "attachments": {},
      "cell_type": "markdown",
      "metadata": {
        "id": "x8fVkQGZj5Xt"
      },
      "source": [
        "> Make sure this command printed `v18` or higher."
      ]
    },
    {
      "cell_type": "code",
      "execution_count": null,
      "metadata": {
        "id": "AohEp9_mj1Tk"
      },
      "outputs": [],
      "source": [
        "!node -v"
      ]
    },
    {
      "attachments": {},
      "cell_type": "markdown",
      "metadata": {
        "id": "LXqC0jIbjI0G"
      },
      "source": [
        "## Install Frontend Packages"
      ]
    },
    {
      "cell_type": "code",
      "execution_count": null,
      "metadata": {
        "id": "V2qSxsl4jL-8"
      },
      "outputs": [],
      "source": [
        "with capture.capture_output():\n",
        "  !cfdraw install\n",
        "  clear_output()"
      ]
    },
    {
      "attachments": {},
      "cell_type": "markdown",
      "metadata": {
        "id": "tBEq2atIoGXj"
      },
      "source": [
        "# Initialize `carefree-drawboard` 🎨"
      ]
    },
    {
      "cell_type": "code",
      "execution_count": null,
      "metadata": {
        "id": "vebcqNfJc98L"
      },
      "outputs": [],
      "source": [
        "!cfdraw init"
      ]
    },
    {
      "attachments": {},
      "cell_type": "markdown",
      "metadata": {
        "id": "P0omZyyAgVyC"
      },
      "source": [
        "# Serve `carefree-drawboard` 🎨\n",
        "\n",
        "> See [Hosting](https://carefree0910.me/carefree-drawboard-doc/docs/user-guides/hosting) for detailed explanations."
      ]
    },
    {
      "attachments": {},
      "cell_type": "markdown",
      "metadata": {
        "id": "AdW_ECQonzMi"
      },
      "source": [
        "## Prepare Development Stage"
      ]
    },
    {
      "cell_type": "code",
      "execution_count": null,
      "metadata": {
        "id": "8XrkRbeXTdFB"
      },
      "outputs": [],
      "source": [
        "%%writefile _dev.py\n",
        "import os\n",
        "from pyngrok import ngrok\n",
        "\n",
        "fe_url = ngrok.connect(5123, bind_tls=True).public_url\n",
        "be_url = ngrok.connect(8123, bind_tls=True).public_url\n",
        "print(\"\\n\\nPlease click this link after [🎉 Backend Server is Ready!] printed out and press the [Visit Site] button, to bypass the ngrok check:\\n\\n\\n>\", be_url, \"\\n\\n\")\n",
        "print(\"You app will be ACTUALLY running at:\", fe_url, \"\\n\")\n",
        "os.environ['CFDRAW_API_URL'] = be_url\n",
        "os.system(\"cfdraw run\")"
      ]
    },
    {
      "attachments": {},
      "cell_type": "markdown",
      "metadata": {
        "id": "QAHLHndcl4fk"
      },
      "source": [
        "## Prepare Production Stage (`--prod` mode)"
      ]
    },
    {
      "cell_type": "code",
      "execution_count": null,
      "metadata": {
        "id": "6_TJzvcVl6TF"
      },
      "outputs": [],
      "source": [
        "%%writefile _prod.py\n",
        "import os\n",
        "from pyngrok import ngrok\n",
        "\n",
        "fe_url = ngrok.connect(5123, bind_tls=True).public_url\n",
        "be_url = ngrok.connect(8123, bind_tls=True).public_url\n",
        "print(\"\\n\\nPlease click this link after [🎉 Backend Server is Ready!] printed out and press the [Visit Site] button, to bypass the ngrok check:\\n\\n\\n>\", be_url, \"\\n\\n\")\n",
        "print(\"You app will be ACTUALLY running at:\", fe_url, \"\\n\")\n",
        "os.environ['CFDRAW_API_URL'] = be_url\n",
        "os.system(\"cfdraw run --prod\")"
      ]
    },
    {
      "attachments": {},
      "cell_type": "markdown",
      "metadata": {
        "id": "_ZRII7KBmRik"
      },
      "source": [
        "## Prepare Production Stage (`--unified` mode)"
      ]
    },
    {
      "cell_type": "code",
      "execution_count": null,
      "metadata": {
        "id": "ww2Oif5NmT6V"
      },
      "outputs": [],
      "source": [
        "%%writefile _unified.py\n",
        "import os\n",
        "from pyngrok import ngrok\n",
        "\n",
        "url = ngrok.connect(8123, bind_tls=True).public_url\n",
        "print(\"\\n\\nYou app will be ACTUALLY running at:\", url, \"\\n\\n\")\n",
        "os.system(\"cfdraw run --unified\")"
      ]
    },
    {
      "attachments": {},
      "cell_type": "markdown",
      "metadata": {
        "id": "dv8eq4LInlqM"
      },
      "source": [
        "## Run one of the stages"
      ]
    },
    {
      "cell_type": "code",
      "execution_count": null,
      "metadata": {
        "id": "lwiUy8S9npS2"
      },
      "outputs": [],
      "source": [
        "# Bonus: you can actually modify the `app.py` and see hot reloads if you run the `_dev` stage!\n",
        "!python3 _dev.py\n",
        "# !python3 _prod.py\n",
        "# !python3 _unified.py"
      ]
    }
  ],
  "metadata": {
    "colab": {
      "collapsed_sections": [
        "-jwOeZafnFQR"
      ],
      "include_colab_link": true,
      "provenance": []
    },
    "gpuClass": "standard",
    "kernelspec": {
      "display_name": "Python 3",
      "name": "python3"
    },
    "language_info": {
      "name": "python"
    }
  },
  "nbformat": 4,
  "nbformat_minor": 0
}
